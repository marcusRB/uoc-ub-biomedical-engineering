{
  "nbformat": 4,
  "nbformat_minor": 0,
  "metadata": {
    "colab": {
      "provenance": [],
      "authorship_tag": "ABX9TyMGSoOJ9lIowbE6xMBsOZdS",
      "include_colab_link": true
    },
    "kernelspec": {
      "name": "python3",
      "display_name": "Python 3"
    },
    "language_info": {
      "name": "python"
    }
  },
  "cells": [
    {
      "cell_type": "markdown",
      "metadata": {
        "id": "view-in-github",
        "colab_type": "text"
      },
      "source": [
        "<a href=\"https://colab.research.google.com/github/marcusRB/uoc-ub-biomedical-engineering/blob/master/genome/Biologia_Molecular.ipynb\" target=\"_parent\"><img src=\"https://colab.research.google.com/assets/colab-badge.svg\" alt=\"Open In Colab\"/></a>"
      ]
    },
    {
      "cell_type": "code",
      "execution_count": null,
      "metadata": {
        "id": "30H3lhWjcTxA"
      },
      "outputs": [],
      "source": [
        "# Count TACG\n",
        "import re\n",
        "\n",
        "first_60 = 'aagcaaaaccaaaaagagatccgatttaaaggcattgtttttatatacactgatgatgac'\n",
        "def count_nt(chain: str,\n",
        "             nt: str) -> int:\n",
        "    if nt not in chain:\n",
        "        pass\n",
        "    else:\n",
        "        tot_nt = chain.count(nt)\n",
        "    return tot_nt"
      ]
    },
    {
      "cell_type": "code",
      "source": [
        "count_nt(first_60, 't'), count_nt(first_60, 'a'), count_nt(first_60, 'c'), count_nt(first_60, 'g')"
      ],
      "metadata": {
        "colab": {
          "base_uri": "https://localhost:8080/"
        },
        "id": "Svhb_8Dfc54v",
        "outputId": "575e0148-3a2f-47a9-b77b-ffaf5b8c7cd7"
      },
      "execution_count": null,
      "outputs": [
        {
          "output_type": "execute_result",
          "data": {
            "text/plain": [
              "(16, 25, 9, 10)"
            ]
          },
          "metadata": {},
          "execution_count": 26
        }
      ]
    },
    {
      "cell_type": "code",
      "source": [
        "# Create the complementary sequence\n",
        "complementary_seq = ''\n",
        "first_60 = 'aagcaaaaccaaaaagagatccgatttaaaggcattgtttttatatacactgatgatgac'\n",
        "for i in first_60:\n",
        "    if i == 'a':\n",
        "        complementary_seq += 't'\n",
        "    elif i == 't':\n",
        "        complementary_seq += 'a'\n",
        "    elif i == 'c':\n",
        "        complementary_seq += 'g'\n",
        "    elif i == 'g':\n",
        "        complementary_seq += 'c'\n",
        "complementary_seq"
      ],
      "metadata": {
        "colab": {
          "base_uri": "https://localhost:8080/",
          "height": 36
        },
        "id": "M4zQz1JGgIq8",
        "outputId": "786d31c1-6bd9-4e93-d169-7e0b37d8c82e"
      },
      "execution_count": null,
      "outputs": [
        {
          "output_type": "execute_result",
          "data": {
            "text/plain": [
              "'ttcgttttggtttttctctaggctaaatttccgtaacaaaaatatatgtgactactactg'"
            ],
            "application/vnd.google.colaboratory.intrinsic+json": {
              "type": "string"
            }
          },
          "metadata": {},
          "execution_count": 28
        }
      ]
    },
    {
      "cell_type": "code",
      "source": [
        "count_nt(complementary_seq, 't'), count_nt(complementary_seq, 'a'), count_nt(complementary_seq, 'c'), count_nt(complementary_seq, 'g')"
      ],
      "metadata": {
        "colab": {
          "base_uri": "https://localhost:8080/"
        },
        "id": "HC97gBOQhKN7",
        "outputId": "b21ded4a-d89e-424f-fdc1-0da0b0652792"
      },
      "execution_count": null,
      "outputs": [
        {
          "output_type": "execute_result",
          "data": {
            "text/plain": [
              "(25, 16, 10, 9)"
            ]
          },
          "metadata": {},
          "execution_count": 29
        }
      ]
    },
    {
      "cell_type": "code",
      "source": [],
      "metadata": {
        "id": "buMGYcesJXns"
      },
      "execution_count": null,
      "outputs": []
    }
  ]
}