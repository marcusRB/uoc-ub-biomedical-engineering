{
  "nbformat": 4,
  "nbformat_minor": 0,
  "metadata": {
    "colab": {
      "provenance": [],
      "authorship_tag": "ABX9TyNOnip1i5nxCn374UYKMpIT",
      "include_colab_link": true
    },
    "kernelspec": {
      "name": "python3",
      "display_name": "Python 3"
    },
    "language_info": {
      "name": "python"
    }
  },
  "cells": [
    {
      "cell_type": "markdown",
      "metadata": {
        "id": "view-in-github",
        "colab_type": "text"
      },
      "source": [
        "<a href=\"https://colab.research.google.com/github/marcusRB/uoc-ub-biomedical-engineering/blob/master/genome/Biologia_Molecular.ipynb\" target=\"_parent\"><img src=\"https://colab.research.google.com/assets/colab-badge.svg\" alt=\"Open In Colab\"/></a>"
      ]
    },
    {
      "cell_type": "markdown",
      "source": [
        "# TASK 1"
      ],
      "metadata": {
        "id": "Aifi_rLH86_6"
      }
    },
    {
      "cell_type": "code",
      "execution_count": null,
      "metadata": {
        "id": "30H3lhWjcTxA"
      },
      "outputs": [],
      "source": [
        "# Count TACG\n",
        "import re\n",
        "\n",
        "first_60 = 'aagcaaaaccaaaaagagatccgatttaaaggcattgtttttatatacactgatgatgac'\n",
        "def count_nt(chain: str,\n",
        "             nt: str) -> int:\n",
        "    if nt not in chain:\n",
        "        pass\n",
        "    else:\n",
        "        tot_nt = chain.count(nt)\n",
        "    return tot_nt"
      ]
    },
    {
      "cell_type": "code",
      "source": [
        "count_nt(first_60, 't'), count_nt(first_60, 'a'), count_nt(first_60, 'c'), count_nt(first_60, 'g')"
      ],
      "metadata": {
        "colab": {
          "base_uri": "https://localhost:8080/"
        },
        "id": "Svhb_8Dfc54v",
        "outputId": "575e0148-3a2f-47a9-b77b-ffaf5b8c7cd7"
      },
      "execution_count": null,
      "outputs": [
        {
          "output_type": "execute_result",
          "data": {
            "text/plain": [
              "(16, 25, 9, 10)"
            ]
          },
          "metadata": {},
          "execution_count": 26
        }
      ]
    },
    {
      "cell_type": "code",
      "source": [
        "# Create the complementary sequence\n",
        "complementary_seq = ''\n",
        "first_60 = 'aagcaaaaccaaaaagagatccgatttaaaggcattgtttttatatacactgatgatgac'\n",
        "for i in first_60:\n",
        "    if i == 'a':\n",
        "        complementary_seq += 't'\n",
        "    elif i == 't':\n",
        "        complementary_seq += 'a'\n",
        "    elif i == 'c':\n",
        "        complementary_seq += 'g'\n",
        "    elif i == 'g':\n",
        "        complementary_seq += 'c'\n",
        "complementary_seq"
      ],
      "metadata": {
        "colab": {
          "base_uri": "https://localhost:8080/",
          "height": 36
        },
        "id": "M4zQz1JGgIq8",
        "outputId": "786d31c1-6bd9-4e93-d169-7e0b37d8c82e"
      },
      "execution_count": null,
      "outputs": [
        {
          "output_type": "execute_result",
          "data": {
            "text/plain": [
              "'ttcgttttggtttttctctaggctaaatttccgtaacaaaaatatatgtgactactactg'"
            ],
            "application/vnd.google.colaboratory.intrinsic+json": {
              "type": "string"
            }
          },
          "metadata": {},
          "execution_count": 28
        }
      ]
    },
    {
      "cell_type": "code",
      "source": [
        "count_nt(complementary_seq, 't'), count_nt(complementary_seq, 'a'), count_nt(complementary_seq, 'c'), count_nt(complementary_seq, 'g')"
      ],
      "metadata": {
        "colab": {
          "base_uri": "https://localhost:8080/"
        },
        "id": "HC97gBOQhKN7",
        "outputId": "b21ded4a-d89e-424f-fdc1-0da0b0652792"
      },
      "execution_count": null,
      "outputs": [
        {
          "output_type": "execute_result",
          "data": {
            "text/plain": [
              "(25, 16, 10, 9)"
            ]
          },
          "metadata": {},
          "execution_count": 29
        }
      ]
    },
    {
      "cell_type": "code",
      "source": [
        "!pip install Bio"
      ],
      "metadata": {
        "id": "buMGYcesJXns",
        "outputId": "fc8b4e16-8e59-4ae5-eb88-7c81c06f5b5c",
        "colab": {
          "base_uri": "https://localhost:8080/"
        }
      },
      "execution_count": 1,
      "outputs": [
        {
          "output_type": "stream",
          "name": "stdout",
          "text": [
            "Collecting Bio\n",
            "  Downloading bio-1.8.1-py3-none-any.whl.metadata (5.7 kB)\n",
            "Collecting biopython>=1.80 (from Bio)\n",
            "  Downloading biopython-1.85-cp312-cp312-manylinux_2_17_x86_64.manylinux2014_x86_64.whl.metadata (13 kB)\n",
            "Collecting gprofiler-official (from Bio)\n",
            "  Downloading gprofiler_official-1.0.0-py3-none-any.whl.metadata (11 kB)\n",
            "Collecting mygene (from Bio)\n",
            "  Downloading mygene-3.2.2-py2.py3-none-any.whl.metadata (10 kB)\n",
            "Requirement already satisfied: pandas in /usr/local/lib/python3.12/dist-packages (from Bio) (2.2.2)\n",
            "Requirement already satisfied: pooch in /usr/local/lib/python3.12/dist-packages (from Bio) (1.8.2)\n",
            "Requirement already satisfied: requests in /usr/local/lib/python3.12/dist-packages (from Bio) (2.32.4)\n",
            "Requirement already satisfied: tqdm in /usr/local/lib/python3.12/dist-packages (from Bio) (4.67.1)\n",
            "Requirement already satisfied: numpy in /usr/local/lib/python3.12/dist-packages (from biopython>=1.80->Bio) (2.0.2)\n",
            "Collecting biothings-client>=0.2.6 (from mygene->Bio)\n",
            "  Downloading biothings_client-0.4.1-py3-none-any.whl.metadata (10 kB)\n",
            "Requirement already satisfied: python-dateutil>=2.8.2 in /usr/local/lib/python3.12/dist-packages (from pandas->Bio) (2.9.0.post0)\n",
            "Requirement already satisfied: pytz>=2020.1 in /usr/local/lib/python3.12/dist-packages (from pandas->Bio) (2025.2)\n",
            "Requirement already satisfied: tzdata>=2022.7 in /usr/local/lib/python3.12/dist-packages (from pandas->Bio) (2025.2)\n",
            "Requirement already satisfied: platformdirs>=2.5.0 in /usr/local/lib/python3.12/dist-packages (from pooch->Bio) (4.5.0)\n",
            "Requirement already satisfied: packaging>=20.0 in /usr/local/lib/python3.12/dist-packages (from pooch->Bio) (25.0)\n",
            "Requirement already satisfied: charset_normalizer<4,>=2 in /usr/local/lib/python3.12/dist-packages (from requests->Bio) (3.4.4)\n",
            "Requirement already satisfied: idna<4,>=2.5 in /usr/local/lib/python3.12/dist-packages (from requests->Bio) (3.11)\n",
            "Requirement already satisfied: urllib3<3,>=1.21.1 in /usr/local/lib/python3.12/dist-packages (from requests->Bio) (2.5.0)\n",
            "Requirement already satisfied: certifi>=2017.4.17 in /usr/local/lib/python3.12/dist-packages (from requests->Bio) (2025.10.5)\n",
            "Requirement already satisfied: httpx>=0.22.0 in /usr/local/lib/python3.12/dist-packages (from biothings-client>=0.2.6->mygene->Bio) (0.28.1)\n",
            "Requirement already satisfied: six>=1.5 in /usr/local/lib/python3.12/dist-packages (from python-dateutil>=2.8.2->pandas->Bio) (1.17.0)\n",
            "Requirement already satisfied: anyio in /usr/local/lib/python3.12/dist-packages (from httpx>=0.22.0->biothings-client>=0.2.6->mygene->Bio) (4.11.0)\n",
            "Requirement already satisfied: httpcore==1.* in /usr/local/lib/python3.12/dist-packages (from httpx>=0.22.0->biothings-client>=0.2.6->mygene->Bio) (1.0.9)\n",
            "Requirement already satisfied: h11>=0.16 in /usr/local/lib/python3.12/dist-packages (from httpcore==1.*->httpx>=0.22.0->biothings-client>=0.2.6->mygene->Bio) (0.16.0)\n",
            "Requirement already satisfied: sniffio>=1.1 in /usr/local/lib/python3.12/dist-packages (from anyio->httpx>=0.22.0->biothings-client>=0.2.6->mygene->Bio) (1.3.1)\n",
            "Requirement already satisfied: typing_extensions>=4.5 in /usr/local/lib/python3.12/dist-packages (from anyio->httpx>=0.22.0->biothings-client>=0.2.6->mygene->Bio) (4.15.0)\n",
            "Downloading bio-1.8.1-py3-none-any.whl (321 kB)\n",
            "\u001b[2K   \u001b[90m━━━━━━━━━━━━━━━━━━━━━━━━━━━━━━━━━━━━━━━━\u001b[0m \u001b[32m321.3/321.3 kB\u001b[0m \u001b[31m7.3 MB/s\u001b[0m eta \u001b[36m0:00:00\u001b[0m\n",
            "\u001b[?25hDownloading biopython-1.85-cp312-cp312-manylinux_2_17_x86_64.manylinux2014_x86_64.whl (3.3 MB)\n",
            "\u001b[2K   \u001b[90m━━━━━━━━━━━━━━━━━━━━━━━━━━━━━━━━━━━━━━━━\u001b[0m \u001b[32m3.3/3.3 MB\u001b[0m \u001b[31m72.7 MB/s\u001b[0m eta \u001b[36m0:00:00\u001b[0m\n",
            "\u001b[?25hDownloading gprofiler_official-1.0.0-py3-none-any.whl (9.3 kB)\n",
            "Downloading mygene-3.2.2-py2.py3-none-any.whl (5.4 kB)\n",
            "Downloading biothings_client-0.4.1-py3-none-any.whl (46 kB)\n",
            "\u001b[2K   \u001b[90m━━━━━━━━━━━━━━━━━━━━━━━━━━━━━━━━━━━━━━━━\u001b[0m \u001b[32m46.7/46.7 kB\u001b[0m \u001b[31m4.0 MB/s\u001b[0m eta \u001b[36m0:00:00\u001b[0m\n",
            "\u001b[?25hInstalling collected packages: biopython, gprofiler-official, biothings-client, mygene, Bio\n",
            "Successfully installed Bio-1.8.1 biopython-1.85 biothings-client-0.4.1 gprofiler-official-1.0.0 mygene-3.2.2\n"
          ]
        }
      ]
    },
    {
      "cell_type": "code",
      "source": [
        "from Bio.Seq import Seq\n",
        "first_60 = 'aagcaaaaccaaaaagagatccgatttaaaggcattgtttttatatacactgatgatgac'"
      ],
      "metadata": {
        "id": "DVO7gHJmYsxd"
      },
      "execution_count": 2,
      "outputs": []
    },
    {
      "cell_type": "code",
      "source": [
        "# Show the sequence of the first 60nt\n",
        "sequence60nt = Seq(first_60)\n",
        "print(sequence60nt)"
      ],
      "metadata": {
        "id": "pqNU7CGWY1Y1",
        "outputId": "2ba83d02-a155-4b47-a503-ca23a5eeccfb",
        "colab": {
          "base_uri": "https://localhost:8080/"
        }
      },
      "execution_count": 4,
      "outputs": [
        {
          "output_type": "stream",
          "name": "stdout",
          "text": [
            "aagcaaaaccaaaaagagatccgatttaaaggcattgtttttatatacactgatgatgac\n"
          ]
        }
      ]
    },
    {
      "cell_type": "code",
      "source": [
        "# Print the complement 5' to 3'\n",
        "sequence60nt.complement()"
      ],
      "metadata": {
        "id": "MGo_yo1DZCYZ",
        "outputId": "6f9fcc93-6be1-46c6-df67-deee6690bfc5",
        "colab": {
          "base_uri": "https://localhost:8080/"
        }
      },
      "execution_count": 6,
      "outputs": [
        {
          "output_type": "execute_result",
          "data": {
            "text/plain": [
              "Seq('ttcgttttggtttttctctaggctaaatttccgtaacaaaaatatatgtgactactactg')"
            ]
          },
          "metadata": {},
          "execution_count": 6
        }
      ]
    },
    {
      "cell_type": "code",
      "source": [
        "# Show the reverse complement to 3' to 5'\n",
        "sequence60nt.reverse_complement()"
      ],
      "metadata": {
        "id": "jc8vrnakZFJI",
        "outputId": "b59175ec-fced-4628-ea9f-8cae990f76d3",
        "colab": {
          "base_uri": "https://localhost:8080/"
        }
      },
      "execution_count": 7,
      "outputs": [
        {
          "output_type": "execute_result",
          "data": {
            "text/plain": [
              "Seq('gtcatcatcagtgtatataaaaacaatgcctttaaatcggatctctttttggttttgctt')"
            ]
          },
          "metadata": {},
          "execution_count": 7
        }
      ]
    },
    {
      "cell_type": "code",
      "source": [
        "# Show the complement RNA\n",
        "sequence60nt.complement_rna()"
      ],
      "metadata": {
        "id": "FqrqLn-IZWmF",
        "outputId": "0e290845-7803-4bf5-e790-4104f9388155",
        "colab": {
          "base_uri": "https://localhost:8080/"
        }
      },
      "execution_count": 8,
      "outputs": [
        {
          "output_type": "execute_result",
          "data": {
            "text/plain": [
              "Seq('uucguuuugguuuuucucuaggcuaaauuuccguaacaaaaauauaugugacuacuacug')"
            ]
          },
          "metadata": {},
          "execution_count": 8
        }
      ]
    },
    {
      "cell_type": "code",
      "source": [
        "# Show the reverse complement RNA\n",
        "sequence60nt.reverse_complement_rna()"
      ],
      "metadata": {
        "id": "mOhc1ayEZg-b",
        "outputId": "8df9dccd-3f3d-4f38-ac4e-4e3ea1f87369",
        "colab": {
          "base_uri": "https://localhost:8080/"
        }
      },
      "execution_count": 9,
      "outputs": [
        {
          "output_type": "execute_result",
          "data": {
            "text/plain": [
              "Seq('gucaucaucaguguauauaaaaacaaugccuuuaaaucggaucucuuuuugguuuugcuu')"
            ]
          },
          "metadata": {},
          "execution_count": 9
        }
      ]
    },
    {
      "cell_type": "markdown",
      "source": [
        "## TASK 2"
      ],
      "metadata": {
        "id": "uMXF3IgS89Gx"
      }
    },
    {
      "cell_type": "code",
      "source": [
        "!NUCLEOTIDE=\"NT_033778\" & curl \"https://eutils.ncbi.nlm.nih.gov/entrez/eutils/efetch.fcgi?db=nuccore&id=NT_033778&rettype=gb&retmode=text\" -o sequence.gb"
      ],
      "metadata": {
        "id": "bIo-3M-38_Jd",
        "outputId": "67344df5-e4be-4606-f578-34c8ef0f7497",
        "colab": {
          "base_uri": "https://localhost:8080/"
        }
      },
      "execution_count": 10,
      "outputs": [
        {
          "output_type": "stream",
          "name": "stdout",
          "text": [
            "  % Total    % Received % Xferd  Average Speed   Time    Time     Time  Current\n",
            "                                 Dload  Upload   Total   Spent    Left  Speed\n",
            "100 13733    0 13733    0     0  11747      0 --:--:--  0:00:01 --:--:-- 11757\n"
          ]
        }
      ]
    },
    {
      "cell_type": "code",
      "source": [
        "!pip install Bio"
      ],
      "metadata": {
        "id": "UG-OvwyT90m4",
        "outputId": "b55b3d35-8a70-4be8-bc2c-fe2ece07ff1b",
        "colab": {
          "base_uri": "https://localhost:8080/"
        }
      },
      "execution_count": null,
      "outputs": [
        {
          "output_type": "stream",
          "name": "stdout",
          "text": [
            "Collecting Bio\n",
            "  Downloading bio-1.8.1-py3-none-any.whl.metadata (5.7 kB)\n",
            "Collecting biopython>=1.80 (from Bio)\n",
            "  Downloading biopython-1.85-cp312-cp312-manylinux_2_17_x86_64.manylinux2014_x86_64.whl.metadata (13 kB)\n",
            "Collecting gprofiler-official (from Bio)\n",
            "  Downloading gprofiler_official-1.0.0-py3-none-any.whl.metadata (11 kB)\n",
            "Collecting mygene (from Bio)\n",
            "  Downloading mygene-3.2.2-py2.py3-none-any.whl.metadata (10 kB)\n",
            "Requirement already satisfied: pandas in /usr/local/lib/python3.12/dist-packages (from Bio) (2.2.2)\n",
            "Requirement already satisfied: pooch in /usr/local/lib/python3.12/dist-packages (from Bio) (1.8.2)\n",
            "Requirement already satisfied: requests in /usr/local/lib/python3.12/dist-packages (from Bio) (2.32.4)\n",
            "Requirement already satisfied: tqdm in /usr/local/lib/python3.12/dist-packages (from Bio) (4.67.1)\n",
            "Requirement already satisfied: numpy in /usr/local/lib/python3.12/dist-packages (from biopython>=1.80->Bio) (2.0.2)\n",
            "Collecting biothings-client>=0.2.6 (from mygene->Bio)\n",
            "  Downloading biothings_client-0.4.1-py3-none-any.whl.metadata (10 kB)\n",
            "Requirement already satisfied: python-dateutil>=2.8.2 in /usr/local/lib/python3.12/dist-packages (from pandas->Bio) (2.9.0.post0)\n",
            "Requirement already satisfied: pytz>=2020.1 in /usr/local/lib/python3.12/dist-packages (from pandas->Bio) (2025.2)\n",
            "Requirement already satisfied: tzdata>=2022.7 in /usr/local/lib/python3.12/dist-packages (from pandas->Bio) (2025.2)\n",
            "Requirement already satisfied: platformdirs>=2.5.0 in /usr/local/lib/python3.12/dist-packages (from pooch->Bio) (4.5.0)\n",
            "Requirement already satisfied: packaging>=20.0 in /usr/local/lib/python3.12/dist-packages (from pooch->Bio) (25.0)\n",
            "Requirement already satisfied: charset_normalizer<4,>=2 in /usr/local/lib/python3.12/dist-packages (from requests->Bio) (3.4.4)\n",
            "Requirement already satisfied: idna<4,>=2.5 in /usr/local/lib/python3.12/dist-packages (from requests->Bio) (3.11)\n",
            "Requirement already satisfied: urllib3<3,>=1.21.1 in /usr/local/lib/python3.12/dist-packages (from requests->Bio) (2.5.0)\n",
            "Requirement already satisfied: certifi>=2017.4.17 in /usr/local/lib/python3.12/dist-packages (from requests->Bio) (2025.10.5)\n",
            "Requirement already satisfied: httpx>=0.22.0 in /usr/local/lib/python3.12/dist-packages (from biothings-client>=0.2.6->mygene->Bio) (0.28.1)\n",
            "Requirement already satisfied: six>=1.5 in /usr/local/lib/python3.12/dist-packages (from python-dateutil>=2.8.2->pandas->Bio) (1.17.0)\n",
            "Requirement already satisfied: anyio in /usr/local/lib/python3.12/dist-packages (from httpx>=0.22.0->biothings-client>=0.2.6->mygene->Bio) (4.11.0)\n",
            "Requirement already satisfied: httpcore==1.* in /usr/local/lib/python3.12/dist-packages (from httpx>=0.22.0->biothings-client>=0.2.6->mygene->Bio) (1.0.9)\n",
            "Requirement already satisfied: h11>=0.16 in /usr/local/lib/python3.12/dist-packages (from httpcore==1.*->httpx>=0.22.0->biothings-client>=0.2.6->mygene->Bio) (0.16.0)\n",
            "Requirement already satisfied: sniffio>=1.1 in /usr/local/lib/python3.12/dist-packages (from anyio->httpx>=0.22.0->biothings-client>=0.2.6->mygene->Bio) (1.3.1)\n",
            "Requirement already satisfied: typing_extensions>=4.5 in /usr/local/lib/python3.12/dist-packages (from anyio->httpx>=0.22.0->biothings-client>=0.2.6->mygene->Bio) (4.15.0)\n",
            "Downloading bio-1.8.1-py3-none-any.whl (321 kB)\n",
            "\u001b[2K   \u001b[90m━━━━━━━━━━━━━━━━━━━━━━━━━━━━━━━━━━━━━━━━\u001b[0m \u001b[32m321.3/321.3 kB\u001b[0m \u001b[31m15.6 MB/s\u001b[0m eta \u001b[36m0:00:00\u001b[0m\n",
            "\u001b[?25hDownloading biopython-1.85-cp312-cp312-manylinux_2_17_x86_64.manylinux2014_x86_64.whl (3.3 MB)\n",
            "\u001b[2K   \u001b[90m━━━━━━━━━━━━━━━━━━━━━━━━━━━━━━━━━━━━━━━━\u001b[0m \u001b[32m3.3/3.3 MB\u001b[0m \u001b[31m89.9 MB/s\u001b[0m eta \u001b[36m0:00:00\u001b[0m\n",
            "\u001b[?25hDownloading gprofiler_official-1.0.0-py3-none-any.whl (9.3 kB)\n",
            "Downloading mygene-3.2.2-py2.py3-none-any.whl (5.4 kB)\n",
            "Downloading biothings_client-0.4.1-py3-none-any.whl (46 kB)\n",
            "\u001b[2K   \u001b[90m━━━━━━━━━━━━━━━━━━━━━━━━━━━━━━━━━━━━━━━━\u001b[0m \u001b[32m46.7/46.7 kB\u001b[0m \u001b[31m3.3 MB/s\u001b[0m eta \u001b[36m0:00:00\u001b[0m\n",
            "\u001b[?25hInstalling collected packages: biopython, gprofiler-official, biothings-client, mygene, Bio\n",
            "Successfully installed Bio-1.8.1 biopython-1.85 biothings-client-0.4.1 gprofiler-official-1.0.0 mygene-3.2.2\n"
          ]
        }
      ]
    },
    {
      "cell_type": "code",
      "source": [
        "from Bio import Entrez, SeqIO"
      ],
      "metadata": {
        "id": "OLzsk6CB97dN"
      },
      "execution_count": 11,
      "outputs": []
    },
    {
      "cell_type": "code",
      "source": [
        "Entrez.email = \"marcusrb@orcid\"\n",
        "LOCUS_ID = \"NT_033778.4\"\n",
        "start = 1\n",
        "end = 7783\n",
        "\n",
        "handle = Entrez.efetch(\n",
        "    db=\"nuccore\",\n",
        "    id=LOCUS_ID,\n",
        "    rettype=\"gb\",\n",
        "    retmode=\"text\",\n",
        "    seq_start=start,\n",
        "    seq_stop=end\n",
        ")\n",
        "record = SeqIO.read(handle, \"genbank\")\n",
        "handle.close()\n",
        "\n",
        "print(\"Accession:\", record.id)\n",
        "print(\"Length:\", len(record.seq))\n",
        "print(\"Number of features:\", len(record.features))"
      ],
      "metadata": {
        "id": "xrURnehY9-t8",
        "outputId": "af3290e7-b1a6-47be-b8dc-cac3e6feec54",
        "colab": {
          "base_uri": "https://localhost:8080/"
        }
      },
      "execution_count": 12,
      "outputs": [
        {
          "output_type": "stream",
          "name": "stdout",
          "text": [
            "Accession: NT_033778.4\n",
            "Length: 7783\n",
            "Number of features: 1\n"
          ]
        }
      ]
    },
    {
      "cell_type": "code",
      "source": [
        "print(\"Number of features:\", len(record.features))\n",
        "for i, f in enumerate(record.features):\n",
        "    print(i, f.type, f.location, f.qualifiers.get(\"gene\", [\"\"])[0])"
      ],
      "metadata": {
        "id": "adVOdtRJ-Onj",
        "outputId": "169e1aee-9487-48e8-e869-c5b8e90bc4a8",
        "colab": {
          "base_uri": "https://localhost:8080/"
        }
      },
      "execution_count": 13,
      "outputs": [
        {
          "output_type": "stream",
          "name": "stdout",
          "text": [
            "Number of features: 1\n",
            "0 source [0:7783](+) \n"
          ]
        }
      ]
    },
    {
      "cell_type": "code",
      "source": [
        "from Bio.SeqRecord import SeqRecord\n",
        "from Bio.SeqIO import write\n",
        "\n",
        "records = []\n",
        "for feature in record.features:\n",
        "    if feature.type == \"CDS\":\n",
        "        seq = feature.extract(record.seq)\n",
        "        product = feature.qualifiers.get(\"product\", [\"unknown\"])[0]\n",
        "        gene = feature.qualifiers.get(\"gene\", [\"no_gene\"])[0]\n",
        "        rec = SeqRecord(seq, id=f\"{gene}_{product}\", description=\"\")\n",
        "        records.append(rec)\n",
        "\n",
        "# Save to FASTA\n",
        "write(records, \"cds_sequences.fasta\", \"fasta\")\n",
        "print(\"✅ All CDS saved to cds_sequences.fasta\")"
      ],
      "metadata": {
        "id": "D2U6y27I-3dt",
        "outputId": "9544193a-2b11-4305-c209-5f4313f3913e",
        "colab": {
          "base_uri": "https://localhost:8080/"
        }
      },
      "execution_count": 14,
      "outputs": [
        {
          "output_type": "stream",
          "name": "stdout",
          "text": [
            "✅ All CDS saved to cds_sequences.fasta\n"
          ]
        }
      ]
    },
    {
      "cell_type": "code",
      "source": [
        "with open('/content/cds_sequences.fasta') as f:\n",
        "    file = f.read()"
      ],
      "metadata": {
        "id": "SBXemetc-6Vh"
      },
      "execution_count": 18,
      "outputs": []
    },
    {
      "cell_type": "code",
      "source": [
        "aminoacids = ['a','t','g','c']\n",
        "counting = 0\n",
        "[counting := counting + aminoacids.count(a) for a in file]\n",
        "print(counting)"
      ],
      "metadata": {
        "colab": {
          "base_uri": "https://localhost:8080/"
        },
        "id": "2Dw1xeeN_l3d",
        "outputId": "5ddbcb16-01ae-4f0e-849f-0d67b2d4083d"
      },
      "execution_count": 19,
      "outputs": [
        {
          "output_type": "stream",
          "name": "stdout",
          "text": [
            "0\n"
          ]
        }
      ]
    },
    {
      "cell_type": "code",
      "source": [
        "\"\".join([a for a in file if a in aminoacids])"
      ],
      "metadata": {
        "colab": {
          "base_uri": "https://localhost:8080/",
          "height": 220
        },
        "id": "hx1G2cJcBxi2",
        "outputId": "57d0b7cf-b8be-4bc1-8090-767a437df89e"
      },
      "execution_count": null,
      "outputs": [
        {
          "output_type": "execute_result",
          "data": {
            "text/plain": [
              "'ttaggtggagtagtcgactgctccgctgccgttctgctgcatgcggacggaccgacgacgggtcaggatgcggcccggtgccgccggagcacctggatcgccgccctcaactgggacacccacttgcactcccgtttccgggattattcccgtattgctgttattaacagccgcagcggcggcagcagcctcttcgctcgccattccggccacagcgttgtccacgatcatggggacggccactggtgttgtcactggctgatgatcctcctccagctgggagttgcgacgcgtggtaatgcctcgcagcttggactttttgggcggcagagtacgtggggcggtaacttccctgatgggcggcgcttcctggacgttatttcctactggggtgggagtcggcaccaccactaccgttggaagggcttcctcctcttggtagtttcgtttgcgggctaatcgcgctgcatttccgttcatattgctgccatcatccgacagtggtatctgtggcacggccgcgatctgttcgttgttggtattcccattgtaacaatccggattcgttgggttattcgccatgcaagcgtcctcgtgaatggtctctagcttatttatcgtcgtgttggtgccaccgttggtggcagccgctggagccacaacctcatccttgatggcctgtttcaactgggcgttctccttctcaagcgtttgtatgcgatcgcgtgtggtctttagttcttgctgcaaaaacagaatggtgctctgcatgccctccacatcctcgtccagctcctgcaggaagtcgtccaactccgactgcgatttcttgacctcttcgctgaagctcttctgcatggccagttcggtctccagcttggccagtctgccgttggaggtcatcttgcccagctcctcgttctcctgatagagcagtcggcacttggccattaggcgtttgccggtattagagtccggcgtgaacttccatgcggacagctcgttctgggtctcctccagcttggccttggtggccttaagttccttcttgagccgctcgaacaggagattgaccgcaggatcgagcagagcagtgcgcaatgcgagggcagttggcgcctgttgggccttgtactcggcaatttggctcacatagtcctggaattcttgctccttgttggccagccgtcgcatgaggatcttctcgcgtcgctgggcgtccgcgcattgctgagccatgcggacctgttccagcttgagattctcgatctcatcttcgagcaagcgctgtcgctgttcggcggctgcaacagcctctgcaacagctgctgcatgttgctgctgctgctgttgttgctgctgctgcaagtgttgctgttgctgctgctgctgctgctgctcctgatggtgatgatggtgcggatgcggatggtgatgatgatggtggtcctccaagccggagggcgttggggaggcggggccgccagtggccccactgttttggctgctgtttaggatatttaggttttgctcgtatttggtcgggggcattttgtcgtaactgttcatacagggtctttgatcgtccatagtcattgcagcgacactcat'"
            ],
            "application/vnd.google.colaboratory.intrinsic+json": {
              "type": "string"
            }
          },
          "metadata": {},
          "execution_count": 32
        }
      ]
    },
    {
      "cell_type": "code",
      "source": [
        "len(\"\".join([a for a in file if a in aminoacids]))"
      ],
      "metadata": {
        "id": "Wvj6_YPfFXkE",
        "outputId": "29094d7d-10f2-4486-892b-2956eec7261c",
        "colab": {
          "base_uri": "https://localhost:8080/"
        }
      },
      "execution_count": null,
      "outputs": [
        {
          "output_type": "execute_result",
          "data": {
            "text/plain": [
              "1611"
            ]
          },
          "metadata": {},
          "execution_count": 35
        }
      ]
    },
    {
      "cell_type": "code",
      "source": [
        "protein = \"\"\"MSVAAMTMDDQRPCMNSYDKMPPTKYEQNLNILNSSQNSGATGG\n",
        "PASPTPSGLEDHHHHHHPHPHHHHHQEQQQQQQQQQHLQQQQQQQQQQHAAAVAEAVA\n",
        "AAEQRQRLLEDEIENLKLEQVRMAQQCADAQRREKILMRRLANKEQEFQDYVSQIAEY\n",
        "KAQQAPTALALRTALLDPAVNLLFERLKKELKATKAKLEETQNELSAWKFTPDSNTGK\n",
        "RLMAKCRLLYQENEELGKMTSNGRLAKLETELAMQKSFSEEVKKSQSELDDFLQELDE\n",
        "DVEGMQSTILFLQQELKTTRDRIQTLEKENAQLKQAIKDEVVAPAAATNGGTNTTINK\n",
        "LETIHEDACMANNPTNPDCYNGNTNNEQIAAVPQIPLSDDGSNMNGNAARLARKRNYQ\n",
        "EEEALPTVVVVPTPTPVGNNVQEAPPIREVTAPRTLPPKKSKLRGITTRRNSQLEEDH\n",
        "QPVTTPVAVPMIVDNAVAGMASEEAAAAAAAVNNSNTGIIPETGVQVGVPVEGGDPGA\n",
        "PAAPGRILTRRRSVRMQQNGSGAVDYST\"\"\""
      ],
      "metadata": {
        "id": "w1ip42arC4WI"
      },
      "execution_count": null,
      "outputs": []
    },
    {
      "cell_type": "code",
      "source": [
        "len(protein)"
      ],
      "metadata": {
        "colab": {
          "base_uri": "https://localhost:8080/"
        },
        "id": "Axu8qQFeC5oZ",
        "outputId": "5eca6008-c82d-472a-c392-a8c0a2e5abf3"
      },
      "execution_count": null,
      "outputs": [
        {
          "output_type": "execute_result",
          "data": {
            "text/plain": [
              "545"
            ]
          },
          "metadata": {},
          "execution_count": 34
        }
      ]
    }
  ]
}